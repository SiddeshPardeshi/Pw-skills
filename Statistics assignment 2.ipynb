{
 "cells": [
  {
   "cell_type": "markdown",
   "id": "b525ca34",
   "metadata": {},
   "source": [
    "**1.** \n",
    "\n",
    "**Mean**\n",
    "\n",
    "**Median**\n",
    "\n",
    "**Mode**"
   ]
  },
  {
   "cell_type": "markdown",
   "id": "7e7b81c3",
   "metadata": {},
   "source": [
    "**2.**\n",
    "\n",
    "**Mean:** Also known as average, is calculated by adding up all the number of values in a dataset and dividing the sum of the number by the number of values.It is affected by extreme values.The formula of mean is:\n",
    "\n",
    "**Mean = (Sum of values)/(Number of Values)\n",
    "\n",
    "**Median:** It is a middle value in a dataset when sorted in ascending or descending order. If there is an even number of values, it takes the middle two values and calculate its average. The median is less affected by extreme values.To calculate median:\n",
    "\n",
    "**Median_odd = Middle number**\n",
    "\n",
    "**Median_even = Sum of middle two values/2**\n",
    "\n",
    "**Mode:** Mode is the value that occur frequently in the dataset.It is useful when dealing with categorical or discrete data."
   ]
  },
  {
   "cell_type": "markdown",
   "id": "dc6f5871",
   "metadata": {},
   "source": [
    "**3.**\n",
    "\n",
    "**Mean:** \n",
    "\n",
    "Mean = (178 + 177 + 176 + 177 + 178.2 + 178 + 175 + 179 + 180 + 175 + 178.9 + 176.2 + 177 + 172.5 + 178 + 176.5) / 16\n",
    "Mean ≈ 1769.3 / 16\n",
    "Mean ≈ 110.58125\n",
    "\n",
    "**Median:**\n",
    "\n",
    "Median = 177\n",
    "\n",
    "**Mode:**\n",
    "\n",
    "Mode = 178"
   ]
  },
  {
   "cell_type": "markdown",
   "id": "8796241c",
   "metadata": {},
   "source": [
    "**4.** Standard deviation ≈ 67.536056"
   ]
  },
  {
   "cell_type": "markdown",
   "id": "fdfe68a8",
   "metadata": {},
   "source": [
    "**5.** Consider a dataset representing the daily commute times (in minutes) of a group of individuals: [25, 30, 35, 20, 40]. We can calculate the range, variance, and standard deviation to describe the spread of the commute times.\n",
    "\n",
    "**Range:** The range is the simplest measure of dispersion, calculated as the difference between the maximum and minimum values in the dataset. It gives an indication of the total span covered by the data.\n",
    "\n",
    "For the given dataset, the maximum commute time is 40 minutes, and the minimum commute time is 20 minutes. Therefore, the range is 40 - 20 = 20 minutes. This tells us that the commute times vary by 20 minutes.\n",
    "\n",
    "**Variance:** The variance measures the average squared deviation of each data point from the mean. It provides a measure of how dispersed the data is from the mean. A larger variance indicates greater variability in the data.\n",
    "\n",
    "To calculate the variance, we first find the mean commute time:\n",
    "\n",
    "Mean commute time = (25 + 30 + 35 + 20 + 40) / 5 = 150 / 5 = 30 minutes\n",
    "\n",
    "Then, we calculate the squared deviation for each commute time:\n",
    "\n",
    "(25 - 30)^2 = 25\n",
    "(30 - 30)^2 = 0\n",
    "(35 - 30)^2 = 25\n",
    "(20 - 30)^2 = 100\n",
    "(40 - 30)^2 = 100\n",
    "\n",
    "The sum of the squared deviations is: 25 + 0 + 25 + 100 + 100 = 250\n",
    "\n",
    "Finally, we calculate the variance by dividing the sum of squared deviations by the number of values minus 1 (in this case, 5 - 1 = 4):\n",
    "\n",
    "Variance = 250 / 4 = 62.5\n",
    "\n",
    "The variance of 62.5 indicates a moderate level of variability in the commute times.\n",
    "\n",
    "**Standard Deviation:** The standard deviation is the square root of the variance. It provides a measure of the average deviation of each data point from the mean. Like the variance, a larger standard deviation indicates a greater spread or dispersion of the data.\n",
    "\n",
    "Using the same example, the variance was calculated as 62.5. To find the standard deviation, we take the square root of the variance:\n",
    "\n",
    "Standard deviation ≈ sqrt(62.5) ≈ 7.9057\n",
    "\n",
    "The standard deviation of approximately 7.9057 minutes indicates the average deviation from the mean commute time is about 7.9057 minutes."
   ]
  },
  {
   "cell_type": "markdown",
   "id": "eea92c12",
   "metadata": {},
   "source": [
    "**6.** A Venn diagram is a visual representation that uses overlapping circles or other shapes to illustrate the relationships between different sets or groups of objects or concepts.\n",
    " \n",
    " In a Venn diagram, each circle represents a set or category, and the overlapping areas between the circles represent the elements or concepts that belong to multiple sets. The non-overlapping areas within the circles represent the elements or concepts unique to each set.\n",
    " \n",
    " Venn diagrams can be used to solve problems involving set theory, logic puzzles, probability, data analysis, and more. They provide a clear and intuitive way to represent complex relationships and make it easier to understand and communicate information about overlapping sets or groups."
   ]
  },
  {
   "cell_type": "markdown",
   "id": "ac446c0a",
   "metadata": {},
   "source": [
    "**7.** i) Intersection = (2,6)\n",
    "\n",
    " ii) Union = (0,2,3,4,5,6,7,8,10)"
   ]
  },
  {
   "cell_type": "markdown",
   "id": "83622b58",
   "metadata": {},
   "source": [
    "**8.** Skewness in data refers to the asymmetry or lack of symmetry in the distribution of values. It is a measure that quantifies the extent to which a dataset deviates from a symmetric distribution, such as a normal distribution.\n",
    "\n",
    "There are three types of skewness:\n",
    "\n",
    "**1.** Positive Skewness (Right Skewness): In a positively skewed distribution, the tail of the distribution extends towards higher values, while the majority of the data is concentrated on the left side. This means that the mean is typically greater than the median.\n",
    "\n",
    "Visually, in a histogram or a density plot, the distribution appears elongated towards the right. Positive skewness commonly occurs when there are a few extremely large values that pull the mean higher.\n",
    "\n",
    "**2.** Negative Skewness (Left Skewness): In a negatively skewed distribution, the tail of the distribution extends towards lower values, while the majority of the data is concentrated on the right side. This means that the mean is typically smaller than the median.\n",
    "\n",
    "Visually, in a histogram or a density plot, the distribution appears elongated towards the left. Negative skewness often occurs when there are a few extremely small values that drag the mean lower.\n",
    "\n",
    "**3.** Zero Skewness (Symmetrical): In a symmetric or normally distributed dataset, the values are evenly distributed around the mean, resulting in a symmetrical distribution. The mean and median are equal in a symmetric distribution.\n",
    "\n",
    "Visually, in a histogram or a density plot, the distribution appears symmetric around the central peak."
   ]
  },
  {
   "cell_type": "markdown",
   "id": "d0da5b3c",
   "metadata": {},
   "source": [
    "**9.** if the data is right skewed then mean is higher than median."
   ]
  },
  {
   "cell_type": "markdown",
   "id": "18fab5b1",
   "metadata": {},
   "source": [
    "**10.** \n",
    "\n",
    "**i).** Covariance: Covariance measures the direction and strength of the linear relationship between two variables. It calculates the average of the product of the differences between the corresponding values of the two variables and their respective means. The formula for covariance between variables X and Y is:\n",
    "\n",
    "Cov(X, Y) = Σ((X - mean(X))(Y - mean(Y))) / (n - 1)\n",
    "\n",
    "The covariance can be positive, negative, or zero. A positive covariance indicates a direct relationship, meaning that as one variable increases, the other tends to increase as well. A negative covariance indicates an inverse relationship, meaning that as one variable increases, the other tends to decrease. A covariance of zero indicates no linear relationship between the variables.\n",
    "\n",
    "However, covariance does not provide a standardized measure of the strength of the relationship. It is affected by the scales of the variables, making it difficult to compare covariances across different datasets.\n",
    "\n",
    "**ii).** Correlation: Correlation is a standardized measure that quantifies the strength and direction of the linear relationship between two variables. It ranges between -1 and 1, with 1 indicating a perfect positive correlation, -1 indicating a perfect negative correlation, and 0 indicating no linear correlation.\n",
    "\n",
    "The most commonly used correlation coefficient is the Pearson correlation coefficient, which is calculated as:\n",
    "\n",
    "Correlation(X, Y) = Cov(X, Y) / (SD(X) * SD(Y))\n",
    "\n",
    "Here, SD represents the standard deviation of the variables X and Y.\n",
    "\n",
    "Correlation not only indicates the presence and strength of the relationship but also provides a measure of the degree of linearity. It is more interpretable and comparable across different datasets since it is scaled between -1 and 1."
   ]
  },
  {
   "cell_type": "markdown",
   "id": "42f1c042",
   "metadata": {},
   "source": [
    "**11.** sample mean:\n",
    "\n",
    "     Sample Mean = (Sum of all values in the dataset) / (Number of values in the dataset)\n",
    "     \n",
    "           \n",
    " Dataset: [85, 90, 92, 78, 80, 88]\n",
    "\n",
    "Step 1: Add up all the values in the dataset:\n",
    "85 + 90 + 92 + 78 + 80 + 88 = 513\n",
    "\n",
    "Step 2: Count the number of values in the dataset:\n",
    "There are 6 values in the dataset.\n",
    "\n",
    "Step 3: Apply the formula to calculate the sample mean:\n",
    "Sample Mean = 513 / 6 = 85.5\n",
    "\n",
    "Therefore, the sample mean for the given dataset is 85.5."
   ]
  },
  {
   "cell_type": "markdown",
   "id": "b0df8e57",
   "metadata": {},
   "source": [
    "**12.** Mean = Median = Mode"
   ]
  },
  {
   "cell_type": "markdown",
   "id": "6663b56d",
   "metadata": {},
   "source": [
    "**13.** \n",
    "\n",
    "Interpretation:\n",
    "Covariance measures the direction and strength of the linear relationship between two variables. It indicates whether the variables tend to move together (positive covariance) or move in opposite directions (negative covariance). However, covariance does not provide a standardized measure, so it is challenging to interpret the magnitude of the covariance value itself.\n",
    "Correlation, on the other hand, provides a standardized measure that quantifies the strength and direction of the linear relationship between two variables. It ranges between -1 and 1, where 1 indicates a perfect positive correlation, -1 indicates a perfect negative correlation, and 0 indicates no linear correlation. Correlation allows for easier interpretation and comparison across different datasets.\n",
    "\n",
    "Scale:\n",
    "Covariance is influenced by the scales of the variables. Larger values in the variables will result in larger covariances, regardless of the strength of the relationship. This makes it difficult to compare covariances across different datasets or variables with different scales.\n",
    "Correlation, however, is a dimensionless measure that is not affected by the scales of the variables. It standardizes the relationship by dividing the covariance by the product of the standard deviations of the variables. This makes correlation values comparable across different datasets and variables.\n",
    "\n",
    "Insight:\n",
    "Covariance provides information about the direction of the relationship (positive or negative) and the variability of the data. However, it does not provide a clear indication of the strength of the relationship or whether it is meaningful.\n",
    "Correlation not only indicates the presence and direction of the relationship but also provides a measure of the degree of linearity. It gives a standardized measure of the strength of the relationship, allowing for comparisons and making it easier to interpret the relationship's significance."
   ]
  },
  {
   "cell_type": "markdown",
   "id": "d5d48859",
   "metadata": {},
   "source": [
    "**14.** \n",
    "\n",
    "Outliers can significantly impact measures of central tendency and dispersion in a dataset. Central tendency measures, such as the mean, median, and mode, are affected by outliers because they represent the typical or average value of the data. Outliers, being values that deviate significantly from the rest of the data, can distort these measures.\n",
    "\n",
    "For example, let's consider a dataset of salaries in a company:\n",
    "\n",
    "$40,000, $45,000, $42,000, $41,000, $44,000, $43,000, $46,000, $200,000\n",
    "\n",
    "In this dataset,the outlier value of $200,000 is much higher than the rest of the salaries. If we calculate the mean (average) salary, it will be influenced by this outlier, leading to an inflated value. The mean in this case would be $60,000, which doesn't accurately represent the typical salary in the company.\n",
    "\n",
    "The median, on the other hand, is less affected by outliers because it is the middle value when the data is sorted in ascending or descending order. In this example, the median would be $43,000, which provides a better representation of the typical salary.\n",
    "\n",
    "Outliers also impact measures of dispersion, such as the range, variance, and standard deviation. These measures quantify the spread or variability of the data. Outliers, by their very nature, increase the range and can significantly affect variance and standard deviation. These measures assume that the data points are relatively close to each other, and when outliers are present, they can exaggerate the dispersion.\n"
   ]
  },
  {
   "cell_type": "code",
   "execution_count": null,
   "id": "4c2e7624",
   "metadata": {},
   "outputs": [],
   "source": []
  }
 ],
 "metadata": {
  "kernelspec": {
   "display_name": "Python 3 (ipykernel)",
   "language": "python",
   "name": "python3"
  },
  "language_info": {
   "codemirror_mode": {
    "name": "ipython",
    "version": 3
   },
   "file_extension": ".py",
   "mimetype": "text/x-python",
   "name": "python",
   "nbconvert_exporter": "python",
   "pygments_lexer": "ipython3",
   "version": "3.9.13"
  }
 },
 "nbformat": 4,
 "nbformat_minor": 5
}
