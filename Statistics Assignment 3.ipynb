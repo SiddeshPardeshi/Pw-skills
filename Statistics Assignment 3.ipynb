{
 "cells": [
  {
   "cell_type": "markdown",
   "id": "b8acf1e4",
   "metadata": {},
   "source": [
    "**1.** Probability density function is the distribution of continous random variable."
   ]
  },
  {
   "cell_type": "markdown",
   "id": "e83c6dfb",
   "metadata": {},
   "source": [
    "**2.** \n",
    "i)Normal/Gausian Distribution\n",
    "\n",
    "ii)Benoulli Distribution\n",
    "\n",
    "iii)Uniform Distribution\n",
    "\n",
    "iv)Poisson Distribution\n",
    "\n",
    "v)Power Law Distribution\n",
    "\n",
    "vii)Log Normal Distribution\n",
    "\n",
    "viii)Binomial Distribution"
   ]
  },
  {
   "cell_type": "code",
   "execution_count": 1,
   "id": "9bf5f0bb",
   "metadata": {},
   "outputs": [
    {
     "name": "stdout",
     "output_type": "stream",
     "text": [
      "PDF at x = 1.5: 0.12951759566589174\n"
     ]
    }
   ],
   "source": [
    "#3\n",
    "\n",
    "import math\n",
    "\n",
    "def normal_pdf(x, mean, std_dev):\n",
    "    \"\"\"\n",
    "    Calculate the probability density function (PDF) of a normal distribution\n",
    "    at a given point x, with the provided mean and standard deviation.\n",
    "    \n",
    "    Args:\n",
    "        x (float): The point at which to calculate the PDF.\n",
    "        mean (float): Mean of the normal distribution.\n",
    "        std_dev (float): Standard deviation of the normal distribution.\n",
    "        \n",
    "    Returns:\n",
    "        float: The PDF value at the given point x.\n",
    "    \"\"\"\n",
    "    exponent = -((x - mean) ** 2) / (2 * std_dev ** 2)\n",
    "    pdf = (1 / (std_dev * math.sqrt(2 * math.pi))) * math.exp(exponent)\n",
    "    return pdf\n",
    "\n",
    "# Example usage\n",
    "mean = 0\n",
    "std_dev = 1\n",
    "x_value = 1.5\n",
    "pdf_at_x = normal_pdf(x_value, mean, std_dev)\n",
    "print(f\"PDF at x = {x_value}: {pdf_at_x}\")\n"
   ]
  },
  {
   "cell_type": "markdown",
   "id": "27d4d0d9",
   "metadata": {},
   "source": [
    "**4.** \n",
    "\n",
    "1) Number of Parameters (n): It consists of number of independent experiments carried out\n",
    "\n",
    "2) Probability of Success (p): there are two possible outcomes: success (usually denoted as 'S') and failure (usually denoted as 'F'). The probability of success in a single trial is denoted as 'p'.\n",
    "\n",
    "3) Probability of Failure (q) : The probability of failure in a single trial is 'q', which is equal to 1 - p.\n",
    "\n",
    "4) Probability Mass Function : Binomial distribution is a distribution of discrete random variable.\n",
    "     P(x=k) = C(n,k)*p^k*(1-p)^n-k\n",
    "    \n",
    "5) Mean : n*p\n",
    "\n",
    "6) Variance : n*p*q\n",
    "\n",
    "7) Standard Deviation : square root of variance\n",
    "\n",
    "8) Skewness: The binomial distribution is typically skewed if 'p' is not close to 0 or 1.\n",
    "\n",
    "9) Applications: The binomial distribution is commonly used to model situations where there are two possible outcomes, such as success/failure, heads/tails, etc. It is often used in quality control, genetics, polling, and other fields"
   ]
  },
  {
   "cell_type": "code",
   "execution_count": 2,
   "id": "fd66bfaf",
   "metadata": {},
   "outputs": [
    {
     "data": {
      "image/png": "[encoded data removed]",
      "text/plain": [
       "<Figure size 640x480 with 1 Axes>"
      ]
     },
     "metadata": {},
     "output_type": "display_data"
    }
   ],
   "source": [
    "#5\n",
    "import numpy as np\n",
    "import matplotlib.pyplot as plt\n",
    "\n",
    "# Parameters\n",
    "sample_size = 1000\n",
    "probability_of_success = 0.4\n",
    "\n",
    "# Generate random sample\n",
    "random_sample = np.random.binomial(n=1, p=probability_of_success, size=sample_size)\n",
    "\n",
    "# Plot histogram\n",
    "plt.hist(random_sample, bins=2, density=True, alpha=0.6, color='blue')\n",
    "plt.title(f'Binomial Distribution (n=1, p={probability_of_success})')\n",
    "plt.xlabel('Number of Successes')\n",
    "plt.ylabel('Probability')\n",
    "plt.xticks([0, 1], ['Failure', 'Success'])\n",
    "plt.grid(True)\n",
    "plt.show()\n"
   ]
  },
  {
   "cell_type": "code",
   "execution_count": 3,
   "id": "2a3de247",
   "metadata": {},
   "outputs": [
    {
     "name": "stdout",
     "output_type": "stream",
     "text": [
      "CDF at x = 5: 0.9160820579686966\n"
     ]
    }
   ],
   "source": [
    "#6\n",
    "import math\n",
    "\n",
    "def poisson_cdf(x, mean):\n",
    "    \"\"\"\n",
    "    Calculate the cumulative distribution function (CDF) of a Poisson distribution\n",
    "    at a given point x, with the provided mean.\n",
    "    \n",
    "    Args:\n",
    "        x (int): The point at which to calculate the CDF.\n",
    "        mean (float): Mean of the Poisson distribution.\n",
    "        \n",
    "    Returns:\n",
    "        float: The CDF value at the given point x.\n",
    "    \"\"\"\n",
    "    cdf = 0\n",
    "    for k in range(x + 1):\n",
    "        cdf += math.exp(-mean) * (mean ** k) / math.factorial(k)\n",
    "    return cdf\n",
    "\n",
    "# Example usage\n",
    "mean = 3\n",
    "x_value = 5\n",
    "cdf_at_x = poisson_cdf(x_value, mean)\n",
    "print(f\"CDF at x = {x_value}: {cdf_at_x}\")\n"
   ]
  },
  {
   "cell_type": "markdown",
   "id": "6fd1e9d6",
   "metadata": {},
   "source": [
    "**7.** **Binomial Distribution** is a distribution of discrete random variables consisting of two parameters n and p where, n is the number of independent experiments each asking yes-no question, with probability of success (p) or failure (q= 1-p).**Poisson Distribution** is a distribution of discrete random variable and it describes the number of events occuring at a fixed time interval."
   ]
  },
  {
   "cell_type": "code",
   "execution_count": 4,
   "id": "c56c97cd",
   "metadata": {},
   "outputs": [
    {
     "name": "stdout",
     "output_type": "stream",
     "text": [
      "Sample Mean: 4.883\n",
      "Sample Variance: 5.074385385385385\n"
     ]
    }
   ],
   "source": [
    "#8\n",
    "import numpy as np\n",
    "\n",
    "# Parameters\n",
    "sample_size = 1000\n",
    "mean = 5\n",
    "\n",
    "# Generate random sample from Poisson distribution\n",
    "random_sample = np.random.poisson(mean, size=sample_size)\n",
    "\n",
    "# Calculate sample mean and variance\n",
    "sample_mean = np.mean(random_sample)\n",
    "sample_variance = np.var(random_sample, ddof=1)  # Using ddof=1 for sample variance\n",
    "\n",
    "print(f\"Sample Mean: {sample_mean}\")\n",
    "print(f\"Sample Variance: {sample_variance}\")\n"
   ]
  },
  {
   "cell_type": "markdown",
   "id": "f9949c64",
   "metadata": {},
   "source": [
    "**9.**\n",
    "Binomial Distribution:\n",
    "In a binomial distribution, which models the number of successes in a fixed number of independent Bernoulli trials, the mean and variance are related by the formula:\n",
    "\n",
    "Variance = n * p * q,\n",
    "\n",
    "where:\n",
    "\n",
    "n is the number of trials,\n",
    "p is the probability of success in each trial,\n",
    "q is the probability of failure in each trial (q = 1 - p).\n",
    "\n",
    "This relationship indicates that the variance increases as the number of trials (n) and the probability of success (p) increase. The closer p is to 0.5, the more symmetric the distribution, resulting in a smaller variance. Conversely, if p is close to 0 or 1, the distribution becomes more skewed, leading to a larger variance.\n",
    "\n",
    "Poisson Distribution:\n",
    "In a Poisson distribution, which models the number of events occurring in a fixed interval of time or space, the mean and variance are equal and are given by:\n",
    "\n",
    "Mean = Variance = λ,\n",
    "\n",
    "where:\n",
    "λ (lambda) is the average rate of occurrence of the events in the interval.\n",
    "In the Poisson distribution, the mean and variance are always equal. This characteristic is a defining feature of the Poisson distribution. If the events are rare and independent, the Poisson distribution can be a good approximation for the binomial distribution when n is large and p is small, with λ = n * p."
   ]
  },
  {
   "cell_type": "markdown",
   "id": "838269cb",
   "metadata": {},
   "source": [
    "**10.** \n",
    "\n",
    "In a normal distribution (also known as a Gaussian distribution), the least frequent data points appear in the tails of the distribution, which are located farthest from the mean. The normal distribution is symmetric, meaning that the left tail mirrors the right tail, so the least frequent data points are equally distributed in both tails.\n",
    "\n",
    "The normal distribution has a bell-shaped curve with the mean (average) positioned at the center of the distribution. The tails of the distribution extend infinitely in both directions. As you move away from the mean towards the tails, the density of data points decreases. This is why data points that are located in the tails of the distribution are less frequent or less likely to occur.\n",
    "\n",
    "In a standard normal distribution (with a mean of 0 and a standard deviation of 1), about 68% of the data lies within one standard deviation of the mean, about 95% lies within two standard deviations, and about 99.7% lies within three standard deviations. This means that only a small percentage of data points (less than 1%) are located more than three standard deviations away from the mean, in the far tails of the distribution.\n",
    "\n",
    "In summary, the least frequent data points in a normal distribution appear in the tails of the distribution, which are located farther away from the mean."
   ]
  },
  {
   "cell_type": "code",
   "execution_count": null,
   "id": "543b2408",
   "metadata": {},
   "outputs": [],
   "source": []
  },
  {
   "cell_type": "code",
   "execution_count": null,
   "id": "9f0ffe66",
   "metadata": {},
   "outputs": [],
   "source": []
  }
 ],
 "metadata": {
  "kernelspec": {
   "display_name": "Python 3 (ipykernel)",
   "language": "python",
   "name": "python3"
  },
  "language_info": {
   "codemirror_mode": {
    "name": "ipython",
    "version": 3
   },
   "file_extension": ".py",
   "mimetype": "text/x-python",
   "name": "python",
   "nbconvert_exporter": "python",
   "pygments_lexer": "ipython3",
   "version": "3.9.13"
  }
 },
 "nbformat": 4,
 "nbformat_minor": 5
}
