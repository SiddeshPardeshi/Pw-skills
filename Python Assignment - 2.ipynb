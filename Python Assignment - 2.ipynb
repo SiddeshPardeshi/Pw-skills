{
 "cells": [
  {
   "cell_type": "markdown",
   "id": "d69511a8",
   "metadata": {},
   "source": [
    "### Python Assignment - 2 :"
   ]
  },
  {
   "cell_type": "code",
   "execution_count": 5,
   "id": "c22e4b77",
   "metadata": {},
   "outputs": [
    {
     "name": "stdout",
     "output_type": "stream",
     "text": [
      "Enter a percentage: 45\n",
      "Grade D\n"
     ]
    }
   ],
   "source": [
    "#1.\n",
    "\n",
    "percentage = float(input('Enter a percentage: '))\n",
    "if percentage > 90:\n",
    "    print('Grade A')\n",
    "elif percentage > 80 and percentage <= 90:\n",
    "    print('Grade B')\n",
    "elif percentage >= 60 and percentage <= 90:\n",
    "    print('Grade C')\n",
    "else:\n",
    "    print('Grade D')"
   ]
  },
  {
   "cell_type": "code",
   "execution_count": 9,
   "id": "fb6af69a",
   "metadata": {},
   "outputs": [
    {
     "name": "stdout",
     "output_type": "stream",
     "text": [
      "Enter cost price: 700000\n",
      "Road tax:  105000.0\n"
     ]
    }
   ],
   "source": [
    "#2. \n",
    "\n",
    "price = int(input('Enter cost price: '))\n",
    "if price > 100000:\n",
    "    print('Road tax: ', price  * 0.15)\n",
    "elif price > 50000 and price <= 100000:\n",
    "    print('Road tax: ', price * 0.1)\n",
    "elif price <= 50000:\n",
    "    print('Road tax: ', price * 0.05)\n",
    "else:\n",
    "    print('Price: ')"
   ]
  },
  {
   "cell_type": "code",
   "execution_count": 14,
   "id": "70f25e0e",
   "metadata": {},
   "outputs": [
    {
     "name": "stdout",
     "output_type": "stream",
     "text": [
      "Enter any city: Agra\n",
      "Monument - Taj Mahal\n"
     ]
    }
   ],
   "source": [
    "#3.\n",
    "\n",
    "city = input('Enter any city: ')\n",
    "\n",
    "if city == \"Delhi\":\n",
    "    print(\"Monument - Red Fort\")\n",
    "elif city == \"Agra\":\n",
    "    print(\"Monument - Taj Mahal\")\n",
    "elif city == \"Jaipur\":\n",
    "    print(\"Monument - Jal Mahal\")"
   ]
  },
  {
   "cell_type": "code",
   "execution_count": 19,
   "id": "b2a7b451",
   "metadata": {},
   "outputs": [
    {
     "name": "stdout",
     "output_type": "stream",
     "text": [
      "Enter a number: 72\n",
      "The number can be divided by 3 2 times before it is less than or equal to 10.\n"
     ]
    }
   ],
   "source": [
    "#4.\n",
    "count = 0\n",
    "\n",
    "n = int(input('Enter a number: '))\n",
    "\n",
    "while n > 10:\n",
    "    n /= 3\n",
    "    count += 1\n",
    "print(f'The number can be divided by 3 {count} times before it is less than or equal to 10.')\n",
    "    \n",
    "\n",
    "    \n",
    "    "
   ]
  },
  {
   "cell_type": "code",
   "execution_count": null,
   "id": "be798af8",
   "metadata": {},
   "outputs": [],
   "source": [
    "#5.\n",
    "while condition:\n",
    "    # code to be executed while the condition is true\n",
    "    # this code block will be repeated until the condition becomes false\n",
    "    \n",
    "When to use a while loop:\n",
    "Unknown Number of Iterations:\n",
    "\n",
    "Use a while loop when you don't know in advance how many times the loop should run. With a while loop, the loop continues until a certain condition is no longer true.\n",
    "Dynamic Condition:\n",
    "\n",
    "Use a while loop when the condition for termination is not based on a fixed number of iterations but depends on some dynamic condition that may change during the loop's execution.\n",
    "User Input:\n",
    "\n",
    "While loops are commonly used when you need to repeatedly ask the user for input until a specific condition is met.\n",
    "Event-Driven Programming:\n",
    "\n",
    "In event-driven programming or scenarios where the loop should respond to external events, a while loop can be more appropriate.\n",
    "Example:\n",
    "Let's say we want to write a program that asks the user to guess a number between 1 and 10. The program will keep asking for guesses until the user guesses the correct number. Here's how you can use a while loop for this:\n",
    "    \n",
    "import random\n",
    "\n",
    "# Generate a random number between 1 and 10\n",
    "secret_number = random.randint(1, 10)\n",
    "\n",
    "# Initialize the guess variable\n",
    "guess = 0\n",
    "\n",
    "# Start the while loop\n",
    "while guess != secret_number:\n",
    "    # Ask the user for input\n",
    "    guess = int(input(\"Guess the number between 1 and 10: \"))\n",
    "\n",
    "    # Check if the guess is correct\n",
    "    if guess == secret_number:\n",
    "        print(\"Congratulations! You guessed the correct number.\")\n",
    "    else:\n",
    "        print(\"Try again!\")\n",
    "\n",
    "# End of the loop\n"
   ]
  },
  {
   "cell_type": "code",
   "execution_count": null,
   "id": "cf8a8ad5",
   "metadata": {},
   "outputs": [],
   "source": [
    "#6. \n",
    "\n",
    "# Pattern 2\n",
    "# *****\n",
    "# ****\n",
    "# ***\n",
    "# **\n",
    "# *\n",
    "\n",
    "row = 5\n",
    "\n",
    "while row >= 1:\n",
    "    col = 1\n",
    "    while col <= row:\n",
    "        print('*', end='')\n",
    "        col += 1\n",
    "    print()\n",
    "    row -= 1\n",
    "\n",
    "# Pattern 3\n",
    "#    *\n",
    "#   **\n",
    "#  ***\n",
    "# ****\n",
    "#*****\n",
    "\n",
    "row = 1\n",
    "\n",
    "while row <= 5:\n",
    "    # Print spaces\n",
    "    space = 5 - row\n",
    "    while space > 0:\n",
    "        print(' ', end='')\n",
    "        space -= 1\n",
    "\n",
    "    # Print asterisks\n",
    "    col = 1\n",
    "    while col <= row:\n",
    "        print('*', end='')\n",
    "        col += 1\n",
    "\n",
    "    print()\n",
    "    row += 1\n",
    "\n",
    "# Pattern 3\n",
    "#    *\n",
    "#   **\n",
    "#  ***\n",
    "# ****\n",
    "#*****\n",
    "\n",
    "row = 1\n",
    "\n",
    "while row <= 5:\n",
    "    # Print spaces\n",
    "    space = 5 - row\n",
    "    while space > 0:\n",
    "        print(' ', end='')\n",
    "        space -= 1\n",
    "\n",
    "    # Print asterisks\n",
    "    col = 1\n",
    "    while col <= row:\n",
    "        print('*', end='')\n",
    "        col += 1\n",
    "\n",
    "    print()\n",
    "    row += 1\n"
   ]
  },
  {
   "cell_type": "code",
   "execution_count": 3,
   "id": "684b2fd9",
   "metadata": {},
   "outputs": [
    {
     "name": "stdout",
     "output_type": "stream",
     "text": [
      "10\n",
      "9\n",
      "8\n",
      "7\n",
      "6\n",
      "5\n",
      "4\n",
      "3\n",
      "2\n",
      "1\n"
     ]
    }
   ],
   "source": [
    "#7.\n",
    "\n",
    "n = 10\n",
    "while n >= 1:\n",
    "    print(n)\n",
    "    n -=1"
   ]
  },
  {
   "cell_type": "code",
   "execution_count": null,
   "id": "6c9f2752",
   "metadata": {},
   "outputs": [],
   "source": []
  }
 ],
 "metadata": {
  "kernelspec": {
   "display_name": "Python 3 (ipykernel)",
   "language": "python",
   "name": "python3"
  },
  "language_info": {
   "codemirror_mode": {
    "name": "ipython",
    "version": 3
   },
   "file_extension": ".py",
   "mimetype": "text/x-python",
   "name": "python",
   "nbconvert_exporter": "python",
   "pygments_lexer": "ipython3",
   "version": "3.9.13"
  }
 },
 "nbformat": 4,
 "nbformat_minor": 5
}
