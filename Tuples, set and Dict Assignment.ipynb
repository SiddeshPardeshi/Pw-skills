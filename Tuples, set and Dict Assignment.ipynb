{
 "cells": [
  {
   "cell_type": "markdown",
   "id": "9c83a561",
   "metadata": {},
   "source": [
    "\n",
    "1. Tuples are the **built-in data type** used to store **collection** of data in the **ordered** format. Tuples are **immutable**, once data is stored inside a tuple you cannnot **update** the values. Tuples are written with **round brackets**."
   ]
  },
  {
   "cell_type": "code",
   "execution_count": 1,
   "id": "561bac2e",
   "metadata": {},
   "outputs": [
    {
     "name": "stdout",
     "output_type": "stream",
     "text": [
      "count method : 2\n",
      "index method : 0\n"
     ]
    }
   ],
   "source": [
    "#2. The two tuple methods in python are index and count.\n",
    "#Example:\n",
    "t1 = (0, 4, False, 'siddesh', 6, 8, 7, 8)\n",
    "print('count method :',t1.count(False))\n",
    "\n",
    "t1 = (0, 4, False, 'siddesh', 6, 8, 7, 8)\n",
    "print('index method :',t1.index(False))\n",
    "\n",
    "#As tuples are immutable it is impossible to change the data stored inside it. "
   ]
  },
  {
   "cell_type": "code",
   "execution_count": 2,
   "id": "c1dde01e",
   "metadata": {},
   "outputs": [
    {
     "name": "stdout",
     "output_type": "stream",
     "text": [
      "{1, 2, 3, 4}\n"
     ]
    }
   ],
   "source": [
    "#3. Set data type in  python does not allow duplicate items because it is a unique collection of items \n",
    "\n",
    "List = [1, 1, 1, 2, 1, 3, 1, 4, 2, 1, 2, 2, 2, 3, 2, 4, 3, 1, 3, 2, 3, 3, 3, 4, 4, 1, 4, 2, 4, 3, 4, 4]\n",
    "\n",
    "#by using set\n",
    "Set = {1, 1, 1, 2, 1, 3, 1, 4, 2, 1, 2, 2, 2, 3, 2, 4, 3, 1, 3, 2, 3, 3, 3, 4, 4, 1, 4, 2, 4, 3, 4, 4}\n",
    "print(Set)"
   ]
  },
  {
   "cell_type": "code",
   "execution_count": 3,
   "id": "55a108cc",
   "metadata": {},
   "outputs": [
    {
     "name": "stdout",
     "output_type": "stream",
     "text": [
      "union of set : {1, 2, 3, 5, 6, 7, 8, 10, 12, 14, 15}\n",
      "update method : {1, 4, 6, 7, 8, 9, 10, 11, 13, 18, 20}\n"
     ]
    }
   ],
   "source": [
    "#4. union() returns a set that contains all items from original set whereas update() adds all the missing element to the set.\n",
    "\n",
    "#Example:\n",
    "set1 = {1, 3, 5, 6, 7, 3, 2}\n",
    "set2 = {8, 10, 12, 14, 15}\n",
    "print('union of set :', set1.union(set2))\n",
    "\n",
    "set3 = {1, 4, 6, 7, 8, 9, 10}\n",
    "set3.update([11, 13, 18, 20])\n",
    "print('update method :', set3)"
   ]
  },
  {
   "cell_type": "code",
   "execution_count": 4,
   "id": "10e7d8c8",
   "metadata": {},
   "outputs": [
    {
     "name": "stdout",
     "output_type": "stream",
     "text": [
      "{'fruit1': 'Apple', 'fruit2': 'Mango', 'fruit3': 'Pineapple', 1: 'Yes', 0: 'No'}\n"
     ]
    },
    {
     "data": {
      "text/plain": [
       "dict"
      ]
     },
     "execution_count": 4,
     "metadata": {},
     "output_type": "execute_result"
    }
   ],
   "source": [
    "#5. Dictionary is a combination of key and value pair. A dictionary is ordered and does not allow duplicates\n",
    "\n",
    "#Example:\n",
    "mydict = {'fruit1': 'Apple', 'fruit2': 'Mango', 'fruit3': 'Pineapple', 1: 'Yes', 0: 'No'}\n",
    "print(mydict)\n",
    "type(mydict)"
   ]
  },
  {
   "cell_type": "code",
   "execution_count": 5,
   "id": "5d7d8413",
   "metadata": {},
   "outputs": [
    {
     "name": "stdout",
     "output_type": "stream",
     "text": [
      "{'fruit1': 'Apple', 'fruit2': 'Mango', 'fruit3': 'Pineapple', 'key': {1: 'Yes', 0: 'No'}}\n"
     ]
    }
   ],
   "source": [
    "#6. Nested dictionary\n",
    "\n",
    "#Example\n",
    "mydict1 = {'fruit1': 'Apple', 'fruit2': 'Mango', 'fruit3': 'Pineapple', 'key': {1: 'Yes', 0: 'No'}}\n",
    "print(mydict1)"
   ]
  },
  {
   "cell_type": "code",
   "execution_count": 6,
   "id": "baab4296",
   "metadata": {},
   "outputs": [
    {
     "name": "stdout",
     "output_type": "stream",
     "text": [
      "{'language': 'Python', 'course': 'Data Science Masters', 'topics': ['Python', 'Machine Learning', 'Deep Learning']}\n"
     ]
    }
   ],
   "source": [
    "#7. \n",
    "dict1 = {'language' : 'Python', 'course': 'Data Science Masters'}\n",
    "dict1.setdefault('topics', ['Python', 'Machine Learning', 'Deep Learning'])\n",
    "print(dict1)"
   ]
  },
  {
   "cell_type": "code",
   "execution_count": 7,
   "id": "923975d9",
   "metadata": {},
   "outputs": [
    {
     "name": "stdout",
     "output_type": "stream",
     "text": [
      "dict_keys(['Sport', 'Teams'])\n",
      "dict_values(['Cricket', ['India', 'Australia', 'England', 'South Africa', 'Sri Lanka', 'New Zealand']])\n",
      "dict_items([('Sport', 'Cricket'), ('Teams', ['India', 'Australia', 'England', 'South Africa', 'Sri Lanka', 'New Zealand'])])\n"
     ]
    }
   ],
   "source": [
    "#8. The three view objects in dictionaries are keys, values and items\n",
    "dict1 = {'Sport': 'Cricket' , 'Teams': ['India', 'Australia', 'England', 'South Africa', 'Sri Lanka', 'New Zealand']}\n",
    "\n",
    "#keys view object\n",
    "keys_view = dict1.keys()\n",
    "print(keys_view)\n",
    "\n",
    "#values view object\n",
    "values_view = dict1.values()\n",
    "print(values_view)\n",
    "\n",
    "#items view object\n",
    "items_view = dict1.items()\n",
    "print(items_view)"
   ]
  },
  {
   "cell_type": "code",
   "execution_count": null,
   "id": "f6c8e6d4",
   "metadata": {},
   "outputs": [],
   "source": []
  }
 ],
 "metadata": {
  "kernelspec": {
   "display_name": "Python 3 (ipykernel)",
   "language": "python",
   "name": "python3"
  },
  "language_info": {
   "codemirror_mode": {
    "name": "ipython",
    "version": 3
   },
   "file_extension": ".py",
   "mimetype": "text/x-python",
   "name": "python",
   "nbconvert_exporter": "python",
   "pygments_lexer": "ipython3",
   "version": "3.9.13"
  }
 },
 "nbformat": 4,
 "nbformat_minor": 5
}
