{
 "cells": [
  {
   "cell_type": "markdown",
   "id": "f0e94659",
   "metadata": {},
   "source": [
    "**1**. Statistics is the science of collecting, organizing and analyzing the data."
   ]
  },
  {
   "cell_type": "markdown",
   "id": "80f499ca",
   "metadata": {},
   "source": [
    "**2**. There are two types of statistics :\n",
    "\n",
    "**a)** Descriptive Statistics\n",
    "\n",
    "**b)** Inferential Statistics\n",
    "\n",
    "Example a) : What is the average height of the students in a class\n",
    "\n",
    "Example b) : Are the average height of the students in the class is similar to what you expect in the entire college\n"
   ]
  },
  {
   "cell_type": "markdown",
   "id": "6399d920",
   "metadata": {},
   "source": [
    "**3**. Types of data:\n",
    "\n",
    "**1**. Quantitative\n",
    "\n",
    "**2**. Qualitative\n",
    "\n",
    "**1. Quantitative data**: Further divided into two categories **Discrete** and **Continous**.Quantitative data is numbers-based, countable or measurable.\n",
    "\n",
    "**Example:** **Discrete** -Number of children in a family, Number of bank accounts, number of fruits in a fruit basket\n",
    "\n",
    "**Continous:** length of a river, height, temperatue, speed, weight\n",
    "\n",
    "**2. Qualitative data**: Divided into two categories **Nominal** and **Ordinal**. Qualitative data is interpretation-based, descriptive and relating to language.\n",
    "\n",
    "**Example:**  **Nominal** -Marital Status, Blood Group, Gender.\n",
    "\n",
    "**Ordinal:** Rank-based - Good, Bad, Satisfactory"
   ]
  },
  {
   "cell_type": "markdown",
   "id": "f86ca95b",
   "metadata": {},
   "source": [
    "**4**.\n",
    "a) Qualitative \n",
    "b) Qualitative\n",
    "c) Quantitative\n",
    "d) Quantitative"
   ]
  },
  {
   "cell_type": "markdown",
   "id": "69b65537",
   "metadata": {},
   "source": [
    "**5.** There are four commonly recognized levels of measurement:\n",
    "\n",
    "**1.** Nominal Level: This is the lowest level of measurement. Variables at the nominal level are categorical and can be assigned to different categories or groups without any inherent order or numerical value. Examples include gender (male/female), marital status (single/married/divorced), or political affiliation (Democrat/Republican/Independent).\n",
    "\n",
    "**2.** Ordinal Level: Variables at the ordinal level possess the characteristics of nominal variables but also have an inherent order or ranking. While the exact differences between categories are not known, they can be ranked or ordered. An example would be a Likert scale used in surveys, where respondents rank their agreement level with statements such as \"strongly agree,\" \"agree,\" \"neutral,\" \"disagree,\" or \"strongly disagree.\"\n",
    "\n",
    "**3.** Interval Level: Variables at the interval level have all the characteristics of ordinal variables but also have equal intervals between values. These intervals are meaningful and can be measured on a numerical scale, but they lack a true zero point. Temperature measured in degrees Celsius or Fahrenheit is an example of an interval-level variable. While it has meaningful intervals (e.g., the difference between 20 and 30 degrees is the same as the difference between 30 and 40 degrees), zero degrees does not represent the complete absence of temperature.\n",
    "\n",
    "**4.** Ratio Level: The ratio level has all the properties of the interval level, but it also has a true zero point that represents the absence of the variable being measured. Variables at the ratio level have meaningful ratios and can be compared using mathematical operations like multiplication or division. Examples include height, weight, income, or age. For instance, if someone weighs 60 kilograms and another person weighs 30 kilograms, the second person weighs half as much."
   ]
  },
  {
   "cell_type": "markdown",
   "id": "563141c6",
   "metadata": {},
   "source": [
    "**6.** Understanding the level of measurement is crucial when analyzing data because it determines the appropriate statistical techniques and operations that can be applied to the variables. The level of measurement determines the type of mathematical operations, summary statistics, and inferential analyses that can be used on the data. Applying inappropriate statistical procedures based on the incorrect level of measurement can lead to erroneous conclusions and misleading results.\n",
    "\n",
    "Here's an example to illustrate the importance of understanding the level of measurement:\n",
    "\n",
    "Suppose you are conducting a study to compare the satisfaction levels of customers for three different smartphone brands: Brand A, Brand B, and Brand C. You collect data by asking customers to rate their satisfaction on a scale of 1 to 5, where 1 represents \"very dissatisfied\" and 5 represents \"very satisfied.\"\n",
    "\n",
    "If you treat the satisfaction ratings as a nominal-level variable, you might make the mistake of calculating the mean (average) satisfaction for each brand. However, this would be inappropriate because the numerical values assigned to the categories (1 to 5) do not represent meaningful quantities. You cannot conclude that the mean satisfaction rating for Brand A (e.g., 4.2) is higher than the mean satisfaction rating for Brand B (e.g., 3.8) based on these nominal-level ratings.\n",
    "\n",
    "Instead, recognizing that the satisfaction ratings are at the ordinal level, you can calculate the median or the mode to determine the central tendency of the data.\n",
    "\n",
    "Had you mistakenly assumed the data to be at the interval level, you might have erroneously applied techniques like calculating the mean, which could lead to inaccurate conclusions and interpretations."
   ]
  },
  {
   "cell_type": "markdown",
   "id": "383a7db0",
   "metadata": {},
   "source": [
    "**7.** Nominal data is a qualitative type of data which is categorical and does not depend on order.Example: gender, marital status, blood group,etc.Whereas ordinal data is also a type of qualitative data in which rank and order matters and differnence cannot be measured."
   ]
  },
  {
   "cell_type": "markdown",
   "id": "33ba7a49",
   "metadata": {},
   "source": [
    "**8.** Boxplot"
   ]
  },
  {
   "cell_type": "markdown",
   "id": "6826cb17",
   "metadata": {},
   "source": [
    "**9.** **Descriptive Statistics** consists of organizing and summarizing the data whereas **Inferential Statistics** makes use of data you have measured to form **conclusion**.Descriptive consists of two measures: **Measure of central tendency : Mean, Median, Mode** and **Measure of dispersion : Variation and Standard Deviation**.Inferential Statistics consists of different types of testing : **z-test, p-Value, hypothesis testing, t-test**\n",
    "\n",
    "Example : Descriptive Statistics\n",
    "what is the average height of the students in a class\n",
    "which is the most common height of the students in a class\n",
    "\n",
    "Example : Inferential Statistics\n",
    "Are the average height of the students in a class is similar to what you expect in the entire college"
   ]
  },
  {
   "cell_type": "markdown",
   "id": "616a05cb",
   "metadata": {},
   "source": [
    "**10.** \n",
    "\n",
    "**Measures of central tendency:**\n",
    "\n",
    "**Mean:** The mean is the most commonly used measure of central tendency. It is calculated by summing all the values in the dataset and dividing by the total number of observations. The mean represents the average value of the dataset and provides a measure of the dataset's central location. It is sensitive to extreme values and is appropriate to use when the data is normally distributed or symmetric.\n",
    "\n",
    "**Median:**  The median is the middle value in an ordered dataset. It is the value that separates the lower and upper halves of the data. The median is useful when dealing with skewed data or datasets that contain outliers. It is not affected by extreme values and provides a robust estimate of central tendency.\n",
    "\n",
    "**Mode:** The mode represents the value or values that occur most frequently in a dataset. It is useful for categorical or discrete data where the frequency of different categories or values needs to be analyzed. The mode can also be used for continuous data, but it may not always be applicable or informative.\n",
    "\n",
    "**Measure of Dispersion:**\n",
    "\n",
    "**Range:** The range is the simplest measure of variability and is calculated by subtracting the minimum value from the maximum value in a dataset. It provides a rough estimate of the spread of the data, but it is highly influenced by extreme values.\n",
    "\n",
    "**Variance:** The variance measures the average squared deviation of each data point from the mean. It quantifies the spread or dispersion of the data. However, variance is in squared units, making it less interpretable. To obtain a measure in the original units of the data, the square root of the variance is calculated, giving us the standard deviation.\n",
    "\n",
    "**Interquartile Range (IQR):** The IQR represents the range of the middle 50% of the data. It is calculated by subtracting the 25th percentile (lower quartile) from the 75th percentile (upper quartile). The IQR is resistant to outliers and provides a measure of the spread of the central part of the data."
   ]
  },
  {
   "cell_type": "code",
   "execution_count": null,
   "id": "2bc6b39b",
   "metadata": {},
   "outputs": [],
   "source": []
  },
  {
   "cell_type": "code",
   "execution_count": null,
   "id": "1df2e06a",
   "metadata": {},
   "outputs": [],
   "source": []
  },
  {
   "cell_type": "code",
   "execution_count": null,
   "id": "da911a26",
   "metadata": {},
   "outputs": [],
   "source": []
  },
  {
   "cell_type": "code",
   "execution_count": null,
   "id": "dd8a2cc5",
   "metadata": {},
   "outputs": [],
   "source": []
  },
  {
   "cell_type": "code",
   "execution_count": null,
   "id": "ee53b362",
   "metadata": {},
   "outputs": [],
   "source": []
  }
 ],
 "metadata": {
  "kernelspec": {
   "display_name": "Python 3 (ipykernel)",
   "language": "python",
   "name": "python3"
  },
  "language_info": {
   "codemirror_mode": {
    "name": "ipython",
    "version": 3
   },
   "file_extension": ".py",
   "mimetype": "text/x-python",
   "name": "python",
   "nbconvert_exporter": "python",
   "pygments_lexer": "ipython3",
   "version": "3.9.13"
  }
 },
 "nbformat": 4,
 "nbformat_minor": 5
}
